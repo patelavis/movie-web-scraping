{
 "cells": [
  {
   "cell_type": "markdown",
   "metadata": {},
   "source": [
    "## Install necessary packages... "
   ]
  },
  {
   "cell_type": "code",
   "execution_count": 1,
   "metadata": {
    "ExecuteTime": {
     "end_time": "2021-08-16T18:10:18.423552Z",
     "start_time": "2021-08-16T18:10:06.853827Z"
    },
    "colab": {
     "base_uri": "https://localhost:8080/"
    },
    "id": "XPWudBqCGT5S",
    "outputId": "08f08edd-3fab-4026-b898-f05549d9bb04"
   },
   "outputs": [
    {
     "name": "stdout",
     "output_type": "stream",
     "text": [
      "Defaulting to user installation because normal site-packages is not writeable\n",
      "Collecting imdbpy\n",
      "  Downloading IMDbPY-2021.4.18-py3-none-any.whl (298 kB)\n",
      "Requirement already satisfied: lxml in c:\\users\\home_\\appdata\\roaming\\python\\python39\\site-packages (from imdbpy) (4.6.3)\n",
      "Requirement already satisfied: SQLAlchemy in c:\\program files\\python39\\lib\\site-packages (from imdbpy) (1.4.20)\n",
      "Requirement already satisfied: greenlet!=0.4.17 in c:\\users\\home_\\appdata\\roaming\\python\\python39\\site-packages (from SQLAlchemy->imdbpy) (1.1.0)\n",
      "Installing collected packages: imdbpy\n",
      "Successfully installed imdbpy-2021.4.18\n"
     ]
    }
   ],
   "source": [
    "!pip install imdbpy"
   ]
  },
  {
   "cell_type": "markdown",
   "metadata": {},
   "source": [
    "## Import libraries"
   ]
  },
  {
   "cell_type": "code",
   "execution_count": 3,
   "metadata": {
    "ExecuteTime": {
     "end_time": "2021-08-16T18:22:22.913687Z",
     "start_time": "2021-08-16T18:22:21.784597Z"
    },
    "id": "jdE192yzHFZy"
   },
   "outputs": [],
   "source": [
    "# Create data frame\n",
    "import pandas as pd\n",
    "import numpy as np\n",
    "from imdb import IMDb"
   ]
  },
  {
   "cell_type": "markdown",
   "metadata": {},
   "source": [
    "## Load Movie titles dataframe"
   ]
  },
  {
   "cell_type": "code",
   "execution_count": 4,
   "metadata": {
    "ExecuteTime": {
     "end_time": "2021-08-16T18:22:31.747450Z",
     "start_time": "2021-08-16T18:22:31.352654Z"
    },
    "colab": {
     "base_uri": "https://localhost:8080/",
     "height": 419
    },
    "id": "T2Ndz0KFH0dK",
    "outputId": "4879cd4b-8937-416a-845a-dc1f6f3eed86"
   },
   "outputs": [
    {
     "data": {
      "text/html": [
       "<div>\n",
       "<style scoped>\n",
       "    .dataframe tbody tr th:only-of-type {\n",
       "        vertical-align: middle;\n",
       "    }\n",
       "\n",
       "    .dataframe tbody tr th {\n",
       "        vertical-align: top;\n",
       "    }\n",
       "\n",
       "    .dataframe thead th {\n",
       "        text-align: right;\n",
       "    }\n",
       "</style>\n",
       "<table border=\"1\" class=\"dataframe\">\n",
       "  <thead>\n",
       "    <tr style=\"text-align: right;\">\n",
       "      <th></th>\n",
       "      <th>Movie Title</th>\n",
       "    </tr>\n",
       "  </thead>\n",
       "  <tbody>\n",
       "    <tr>\n",
       "      <th>0</th>\n",
       "      <td>3 Idiots</td>\n",
       "    </tr>\n",
       "    <tr>\n",
       "      <th>1</th>\n",
       "      <td>Taare Zameen Par</td>\n",
       "    </tr>\n",
       "    <tr>\n",
       "      <th>2</th>\n",
       "      <td>PK (film)</td>\n",
       "    </tr>\n",
       "    <tr>\n",
       "      <th>3</th>\n",
       "      <td>Dangal (film)</td>\n",
       "    </tr>\n",
       "    <tr>\n",
       "      <th>4</th>\n",
       "      <td>Rang De Basanti</td>\n",
       "    </tr>\n",
       "    <tr>\n",
       "      <th>...</th>\n",
       "      <td>...</td>\n",
       "    </tr>\n",
       "    <tr>\n",
       "      <th>3995</th>\n",
       "      <td>Mehmaan (film)</td>\n",
       "    </tr>\n",
       "    <tr>\n",
       "      <th>3996</th>\n",
       "      <td>Sorry Daddy</td>\n",
       "    </tr>\n",
       "    <tr>\n",
       "      <th>3997</th>\n",
       "      <td>Raadha Aur Seeta</td>\n",
       "    </tr>\n",
       "    <tr>\n",
       "      <th>3998</th>\n",
       "      <td>Dafaa 302</td>\n",
       "    </tr>\n",
       "    <tr>\n",
       "      <th>3999</th>\n",
       "      <td>Calapor (film)</td>\n",
       "    </tr>\n",
       "  </tbody>\n",
       "</table>\n",
       "<p>4000 rows × 1 columns</p>\n",
       "</div>"
      ],
      "text/plain": [
       "           Movie Title\n",
       "0             3 Idiots\n",
       "1     Taare Zameen Par\n",
       "2            PK (film)\n",
       "3        Dangal (film)\n",
       "4      Rang De Basanti\n",
       "...                ...\n",
       "3995    Mehmaan (film)\n",
       "3996       Sorry Daddy\n",
       "3997  Raadha Aur Seeta\n",
       "3998         Dafaa 302\n",
       "3999    Calapor (film)\n",
       "\n",
       "[4000 rows x 1 columns]"
      ]
     },
     "execution_count": 4,
     "metadata": {},
     "output_type": "execute_result"
    }
   ],
   "source": [
    "movies = pd.read_csv('Bollywood Movies Dataset.xlsx - Sheet1.csv')\n",
    "movies"
   ]
  },
  {
   "cell_type": "markdown",
   "metadata": {},
   "source": [
    "## Check how to use that"
   ]
  },
  {
   "cell_type": "markdown",
   "metadata": {
    "ExecuteTime": {
     "end_time": "2021-08-16T18:22:35.428718Z",
     "start_time": "2021-08-16T18:22:35.271977Z"
    },
    "id": "zd9r1_nmGVIc"
   },
   "source": [
    "### Create an instance of the IMDb class"
   ]
  },
  {
   "cell_type": "code",
   "execution_count": 5,
   "metadata": {
    "ExecuteTime": {
     "end_time": "2021-08-16T18:22:35.428718Z",
     "start_time": "2021-08-16T18:22:35.271977Z"
    },
    "id": "zd9r1_nmGVIc"
   },
   "outputs": [],
   "source": [
    "ia = IMDb()"
   ]
  },
  {
   "cell_type": "markdown",
   "metadata": {
    "ExecuteTime": {
     "end_time": "2021-08-16T18:23:27.830714Z",
     "start_time": "2021-08-16T18:23:26.616271Z"
    }
   },
   "source": [
    "### Search movie by movie name"
   ]
  },
  {
   "cell_type": "code",
   "execution_count": 6,
   "metadata": {
    "ExecuteTime": {
     "end_time": "2021-08-16T18:23:27.830714Z",
     "start_time": "2021-08-16T18:23:26.616271Z"
    }
   },
   "outputs": [
    {
     "data": {
      "text/plain": [
       "[<Movie id:0986264[http] title:_Like Stars on Earth (2007)_>,\n",
       " <Movie id:13300004[http] title:_\"Taare Zameen Par\" (2020)_>,\n",
       " <Movie id:14831666[http] title:_\"Taare Zameen Par\" Ep 02 (2020)_>,\n",
       " <Movie id:14831664[http] title:_\"Taare Zameen Par\" Ep 01 (2020)_>,\n",
       " <Movie id:14831672[http] title:_\"Taare Zameen Par\" Ep 03 (2020)_>,\n",
       " <Movie id:8142208[http] title:_Jab Taare Utare Zameen Par (2017)_>]"
      ]
     },
     "execution_count": 6,
     "metadata": {},
     "output_type": "execute_result"
    }
   ],
   "source": [
    "ia.search_movie('Taare Zameen Par')"
   ]
  },
  {
   "cell_type": "markdown",
   "metadata": {
    "ExecuteTime": {
     "end_time": "2021-08-16T18:23:41.678243Z",
     "start_time": "2021-08-16T18:23:40.503830Z"
    },
    "colab": {
     "base_uri": "https://localhost:8080/",
     "height": 35
    },
    "id": "M1Xs6t2lGyAZ",
    "outputId": "21b29b0d-af15-49bf-fe2f-1a83b13ef02a"
   },
   "source": [
    "### Get movieid from list first"
   ]
  },
  {
   "cell_type": "code",
   "execution_count": 7,
   "metadata": {
    "ExecuteTime": {
     "end_time": "2021-08-16T18:23:41.678243Z",
     "start_time": "2021-08-16T18:23:40.503830Z"
    },
    "colab": {
     "base_uri": "https://localhost:8080/",
     "height": 35
    },
    "id": "M1Xs6t2lGyAZ",
    "outputId": "21b29b0d-af15-49bf-fe2f-1a83b13ef02a"
   },
   "outputs": [
    {
     "data": {
      "text/plain": [
       "'0986264'"
      ]
     },
     "execution_count": 7,
     "metadata": {},
     "output_type": "execute_result"
    }
   ],
   "source": [
    "a = ia.search_movie('Taare Zameen Par')[0].movieID\n",
    "a"
   ]
  },
  {
   "cell_type": "markdown",
   "metadata": {
    "ExecuteTime": {
     "end_time": "2021-08-16T18:30:23.088276Z",
     "start_time": "2021-08-16T18:30:23.071321Z"
    },
    "colab": {
     "base_uri": "https://localhost:8080/"
    },
    "id": "wVXi7E4WH94x",
    "outputId": "4fce9f59-3b0f-4c8e-9b49-156c8968ba42"
   },
   "source": [
    "### Get a movie by using movieID"
   ]
  },
  {
   "cell_type": "code",
   "execution_count": 8,
   "metadata": {
    "ExecuteTime": {
     "end_time": "2021-08-16T18:23:48.198541Z",
     "start_time": "2021-08-16T18:23:45.169120Z"
    },
    "colab": {
     "base_uri": "https://localhost:8080/"
    },
    "id": "wVXi7E4WH94x",
    "outputId": "4fce9f59-3b0f-4c8e-9b49-156c8968ba42"
   },
   "outputs": [
    {
     "data": {
      "text/plain": [
       "<Movie id:0986264[http] title:_Like Stars on Earth (2007)_>"
      ]
     },
     "execution_count": 8,
     "metadata": {},
     "output_type": "execute_result"
    }
   ],
   "source": [
    "movie = ia.get_movie(a)\n",
    "movie"
   ]
  },
  {
   "cell_type": "markdown",
   "metadata": {
    "ExecuteTime": {
     "end_time": "2021-08-16T18:28:25.854114Z",
     "start_time": "2021-08-16T18:28:25.840150Z"
    },
    "colab": {
     "base_uri": "https://localhost:8080/"
    },
    "id": "jFLBktCFIO30",
    "outputId": "f2b1aa9a-ab69-4226-daf3-99d37cecd29b"
   },
   "source": [
    "### Check all movie's available information "
   ]
  },
  {
   "cell_type": "code",
   "execution_count": 9,
   "metadata": {
    "ExecuteTime": {
     "end_time": "2021-08-16T18:28:25.854114Z",
     "start_time": "2021-08-16T18:28:25.840150Z"
    },
    "colab": {
     "base_uri": "https://localhost:8080/"
    },
    "id": "jFLBktCFIO30",
    "outputId": "f2b1aa9a-ab69-4226-daf3-99d37cecd29b"
   },
   "outputs": [
    {
     "data": {
      "text/plain": [
       "{'main': ['localized title',\n",
       "  'cast',\n",
       "  'genres',\n",
       "  'runtimes',\n",
       "  'countries',\n",
       "  'country codes',\n",
       "  'language codes',\n",
       "  'color info',\n",
       "  'aspect ratio',\n",
       "  'sound mix',\n",
       "  'box office',\n",
       "  'certificates',\n",
       "  'original air date',\n",
       "  'rating',\n",
       "  'votes',\n",
       "  'cover url',\n",
       "  'imdbID',\n",
       "  'plot outline',\n",
       "  'languages',\n",
       "  'title',\n",
       "  'year',\n",
       "  'kind',\n",
       "  'directors',\n",
       "  'writers',\n",
       "  'producers',\n",
       "  'composers',\n",
       "  'cinematographers',\n",
       "  'editors',\n",
       "  'editorial department',\n",
       "  'production designers',\n",
       "  'art directors',\n",
       "  'costume designers',\n",
       "  'make up department',\n",
       "  'production managers',\n",
       "  'assistant directors',\n",
       "  'art department',\n",
       "  'sound department',\n",
       "  'visual effects',\n",
       "  'stunts',\n",
       "  'camera department',\n",
       "  'animation department',\n",
       "  'costume departmen',\n",
       "  'music department',\n",
       "  'script department',\n",
       "  'miscellaneous',\n",
       "  'thanks',\n",
       "  'akas',\n",
       "  'writer',\n",
       "  'director',\n",
       "  'top 250 rank',\n",
       "  'production companies',\n",
       "  'distributors',\n",
       "  'other companies'],\n",
       " 'plot': ['plot', 'synopsis']}"
      ]
     },
     "execution_count": 9,
     "metadata": {},
     "output_type": "execute_result"
    }
   ],
   "source": [
    "movie.infoset2keys"
   ]
  },
  {
   "cell_type": "markdown",
   "metadata": {
    "colab": {
     "base_uri": "https://localhost:8080/"
    },
    "id": "I38ryAqSJDsc",
    "outputId": "93552874-434a-444c-85d7-c52fe98495b4"
   },
   "source": [
    "### Let's check one by one all information"
   ]
  },
  {
   "cell_type": "code",
   "execution_count": 11,
   "metadata": {
    "ExecuteTime": {
     "end_time": "2021-08-16T18:31:24.191724Z",
     "start_time": "2021-08-16T18:31:24.174769Z"
    },
    "colab": {
     "base_uri": "https://localhost:8080/"
    },
    "id": "I38ryAqSJDsc",
    "outputId": "93552874-434a-444c-85d7-c52fe98495b4"
   },
   "outputs": [
    {
     "data": {
      "text/plain": [
       "'0986264'"
      ]
     },
     "execution_count": 11,
     "metadata": {},
     "output_type": "execute_result"
    }
   ],
   "source": [
    "# Check IMDb ID\n",
    "movie['imdbID']"
   ]
  },
  {
   "cell_type": "code",
   "execution_count": 12,
   "metadata": {
    "ExecuteTime": {
     "end_time": "2021-08-16T18:31:49.002116Z",
     "start_time": "2021-08-16T18:31:48.984164Z"
    },
    "colab": {
     "base_uri": "https://localhost:8080/"
    },
    "id": "F2PbvKsMKgOM",
    "outputId": "b2d0f574-bc9c-4162-be24-d6c98b5db74a"
   },
   "outputs": [
    {
     "data": {
      "text/plain": [
       "2007"
      ]
     },
     "execution_count": 12,
     "metadata": {},
     "output_type": "execute_result"
    }
   ],
   "source": [
    "# Movie Release year\n",
    "movie['year']"
   ]
  },
  {
   "cell_type": "code",
   "execution_count": 13,
   "metadata": {
    "ExecuteTime": {
     "end_time": "2021-08-16T18:32:58.909669Z",
     "start_time": "2021-08-16T18:32:58.902687Z"
    },
    "colab": {
     "base_uri": "https://localhost:8080/",
     "height": 35
    },
    "id": "XuX2bO6CLgVq",
    "outputId": "8a5a442f-c57f-4758-f80b-78fc4d39759f"
   },
   "outputs": [
    {
     "data": {
      "text/plain": [
       "'21 Dec 2007 (India)'"
      ]
     },
     "execution_count": 13,
     "metadata": {},
     "output_type": "execute_result"
    }
   ],
   "source": [
    "# Movie Release Date \n",
    "movie['original air date']"
   ]
  },
  {
   "cell_type": "code",
   "execution_count": 14,
   "metadata": {
    "ExecuteTime": {
     "end_time": "2021-08-16T18:33:19.234345Z",
     "start_time": "2021-08-16T18:33:19.223378Z"
    },
    "colab": {
     "base_uri": "https://localhost:8080/"
    },
    "id": "gee_x-QrMznW",
    "outputId": "6f08fd18-111b-4bed-ddb9-8767a7bd668b"
   },
   "outputs": [
    {
     "data": {
      "text/plain": [
       "['Drama', 'Family']"
      ]
     },
     "execution_count": 14,
     "metadata": {},
     "output_type": "execute_result"
    }
   ],
   "source": [
    "# Movie Genres\n",
    "movie['genres']"
   ]
  },
  {
   "cell_type": "code",
   "execution_count": 15,
   "metadata": {
    "ExecuteTime": {
     "end_time": "2021-08-16T18:34:02.038768Z",
     "start_time": "2021-08-16T18:34:02.030828Z"
    },
    "colab": {
     "base_uri": "https://localhost:8080/"
    },
    "id": "BHoTDuj4IRxJ",
    "outputId": "d98f09e4-dfa6-4630-afe5-8ff3cbe32fe7"
   },
   "outputs": [
    {
     "data": {
      "text/plain": [
       "['Darsheel Safary',\n",
       " 'Aamir Khan',\n",
       " 'Tisca Chopra',\n",
       " 'Vipin Sharma',\n",
       " 'Sachet Engineer',\n",
       " 'Tanay Chheda',\n",
       " 'Lalitha Lajmi',\n",
       " 'Girija Oak',\n",
       " 'Ravi Khanvilkar',\n",
       " 'Pratima Kulkarni',\n",
       " 'Meghna Malik',\n",
       " 'Sonali Sachdev',\n",
       " 'Sanjay Dadich',\n",
       " 'Rajgopal Iyer',\n",
       " 'Bugs Bhargava Krishna',\n",
       " 'Shankar Sachdev',\n",
       " 'M.K. Raina',\n",
       " 'Gurkirtan',\n",
       " 'Gurdeepak Kaur',\n",
       " 'Alorika Chatterjee',\n",
       " 'Megha Bengali',\n",
       " 'Munireh Guhilot',\n",
       " 'Girish Kumar Menon',\n",
       " 'Vivekanandan',\n",
       " 'Madhav Datt',\n",
       " 'Prashant',\n",
       " 'Vitthal',\n",
       " 'Jadav',\n",
       " 'Ramit Gupta',\n",
       " 'Arnav Valcha',\n",
       " 'Brihan Lamba',\n",
       " 'Ricky',\n",
       " 'Krishn Gopinath',\n",
       " 'Ayaan',\n",
       " 'Veer Mohan',\n",
       " 'Aniket Engineer',\n",
       " 'Abhishek Bachchan',\n",
       " 'Samir Rajda',\n",
       " 'Sanjay Sinha']"
      ]
     },
     "execution_count": 15,
     "metadata": {},
     "output_type": "execute_result"
    }
   ],
   "source": [
    "# List out all cast \n",
    "[x['name'] for x in movie['cast']]"
   ]
  },
  {
   "cell_type": "code",
   "execution_count": 16,
   "metadata": {
    "ExecuteTime": {
     "end_time": "2021-08-16T18:34:33.534086Z",
     "start_time": "2021-08-16T18:34:33.520089Z"
    },
    "colab": {
     "base_uri": "https://localhost:8080/"
    },
    "id": "9upup95mOBVF",
    "outputId": "575c4f6c-8972-44ea-8b7b-2c7e459de863"
   },
   "outputs": [
    {
     "data": {
      "text/plain": [
       "8.4"
      ]
     },
     "execution_count": 16,
     "metadata": {},
     "output_type": "execute_result"
    }
   ],
   "source": [
    "# Movie's rating \n",
    "movie['rating']"
   ]
  },
  {
   "cell_type": "code",
   "execution_count": 17,
   "metadata": {
    "ExecuteTime": {
     "end_time": "2021-08-16T18:35:00.771634Z",
     "start_time": "2021-08-16T18:35:00.766684Z"
    },
    "colab": {
     "base_uri": "https://localhost:8080/"
    },
    "id": "P-QoV0RZOshd",
    "outputId": "1e77f689-9fef-4934-a678-bb9aed335054"
   },
   "outputs": [
    {
     "data": {
      "text/plain": [
       "179095"
      ]
     },
     "execution_count": 17,
     "metadata": {},
     "output_type": "execute_result"
    }
   ],
   "source": [
    "# Movie's votes\n",
    "movie['votes']"
   ]
  },
  {
   "cell_type": "code",
   "execution_count": 18,
   "metadata": {
    "ExecuteTime": {
     "end_time": "2021-08-16T18:35:21.380158Z",
     "start_time": "2021-08-16T18:35:21.359213Z"
    },
    "colab": {
     "base_uri": "https://localhost:8080/"
    },
    "id": "0N30U7ZGOzMq",
    "outputId": "b957540d-2506-4353-8bca-d567e1e79b78"
   },
   "outputs": [
    {
     "data": {
      "text/plain": [
       "14"
      ]
     },
     "execution_count": 18,
     "metadata": {},
     "output_type": "execute_result"
    }
   ],
   "source": [
    "# Movie's age from current year\n",
    "2021 - int(movie['year'])"
   ]
  },
  {
   "cell_type": "code",
   "execution_count": 19,
   "metadata": {
    "ExecuteTime": {
     "end_time": "2021-08-16T18:36:02.779458Z",
     "start_time": "2021-08-16T18:36:02.766495Z"
    },
    "colab": {
     "base_uri": "https://localhost:8080/"
    },
    "id": "crxwJdTzQvh6",
    "outputId": "d2aa481b-e745-4c9a-e13d-57ffb9bbb9cd"
   },
   "outputs": [
    {
     "data": {
      "text/plain": [
       "92"
      ]
     },
     "execution_count": 19,
     "metadata": {},
     "output_type": "execute_result"
    }
   ],
   "source": [
    "# Movie's top rank check\n",
    "movie['top 250 rank']"
   ]
  },
  {
   "cell_type": "code",
   "execution_count": 20,
   "metadata": {
    "ExecuteTime": {
     "end_time": "2021-08-16T18:36:34.949995Z",
     "start_time": "2021-08-16T18:36:34.937029Z"
    },
    "colab": {
     "base_uri": "https://localhost:8080/"
    },
    "id": "uLKcGKKQS-d2",
    "outputId": "61ba5976-ea07-45ca-ab16-7004b4e635b1"
   },
   "outputs": [
    {
     "data": {
      "text/plain": [
       "['Aamir Khan', 'Amole Gupte']"
      ]
     },
     "execution_count": 20,
     "metadata": {},
     "output_type": "execute_result"
    }
   ],
   "source": [
    "# List all directors in movie\n",
    "[x['name'] for x in movie['directors'] if 'name' in x]"
   ]
  },
  {
   "cell_type": "code",
   "execution_count": 21,
   "metadata": {
    "ExecuteTime": {
     "end_time": "2021-08-16T18:37:00.566180Z",
     "start_time": "2021-08-16T18:37:00.550231Z"
    },
    "colab": {
     "base_uri": "https://localhost:8080/"
    },
    "id": "5d7k2qgIVXrN",
    "outputId": "f784b9f3-25f2-4633-cc1e-c0aac0af81a3"
   },
   "outputs": [
    {
     "data": {
      "text/plain": [
       "['Amole Gupte', 'Amole Gupte']"
      ]
     },
     "execution_count": 21,
     "metadata": {},
     "output_type": "execute_result"
    }
   ],
   "source": [
    "# List out all writers \n",
    "[x['name'] for x in movie['writers'] if 'name' in x]"
   ]
  },
  {
   "cell_type": "code",
   "execution_count": 22,
   "metadata": {
    "ExecuteTime": {
     "end_time": "2021-08-16T18:37:41.946956Z",
     "start_time": "2021-08-16T18:37:41.926016Z"
    },
    "colab": {
     "base_uri": "https://localhost:8080/"
    },
    "id": "HJdWHxMnWCuK",
    "outputId": "5563f387-d3f3-47a5-d28b-70fcaad36008"
   },
   "outputs": [
    {
     "data": {
      "text/plain": [
       "['Shankar Mahadevan', 'Loy Mendonsa', 'Ehsaan Noorani']"
      ]
     },
     "execution_count": 22,
     "metadata": {},
     "output_type": "execute_result"
    }
   ],
   "source": [
    "# List out all composers\n",
    "[x['name'] for x in movie['composers'] if 'name' in x]"
   ]
  },
  {
   "cell_type": "code",
   "execution_count": 23,
   "metadata": {
    "ExecuteTime": {
     "end_time": "2021-08-16T18:38:10.758794Z",
     "start_time": "2021-08-16T18:38:10.749859Z"
    },
    "colab": {
     "base_uri": "https://localhost:8080/"
    },
    "id": "T__WQLZoYgfT",
    "outputId": "622606d3-2754-4e9a-c8b8-72247121fbd0"
   },
   "outputs": [
    {
     "data": {
      "text/plain": [
       "['Satyajit Pande']"
      ]
     },
     "execution_count": 23,
     "metadata": {},
     "output_type": "execute_result"
    }
   ],
   "source": [
    "# List out all cinematographers\n",
    "[x['name'] for x in movie['cinematographers'] if 'name' in x]"
   ]
  },
  {
   "cell_type": "code",
   "execution_count": 24,
   "metadata": {
    "ExecuteTime": {
     "end_time": "2021-08-16T18:38:29.370928Z",
     "start_time": "2021-08-16T18:38:29.365939Z"
    },
    "colab": {
     "base_uri": "https://localhost:8080/"
    },
    "id": "_Q-PObDrYnFa",
    "outputId": "4461e125-7d90-40c9-c00a-f2320f16e5f9"
   },
   "outputs": [
    {
     "data": {
      "text/plain": [
       "['Deepa Bhatia']"
      ]
     },
     "execution_count": 24,
     "metadata": {},
     "output_type": "execute_result"
    }
   ],
   "source": [
    "# List out all editors\n",
    "[x['name'] for x in movie['editors'] if 'name' in x]"
   ]
  },
  {
   "cell_type": "markdown",
   "metadata": {},
   "source": [
    "## Create function for all detail stored in dictionary"
   ]
  },
  {
   "cell_type": "code",
   "execution_count": 259,
   "metadata": {
    "id": "3Mt2uLCfa7M_"
   },
   "outputs": [],
   "source": [
    "# impoer library\n",
    "from imdb import IMDb\n",
    "\n",
    "def get_all_details_of_movie(movie_name):\n",
    "    \n",
    "    ia = IMDb()\n",
    "    # Ccreate dictionary for all details\n",
    "    dict_ = {'localized title':np.nan, 'original title':np.nan, 'imdbID':np.nan, 'original air date':np.nan, 'genres':np.nan, 'cast':np.nan,\n",
    "          'plot outline':np.nan, 'rating':np.nan, 'votes':np.nan, 'age of content':np.nan, 'directors':np.nan, 'writers':np.nan,\n",
    "          'producers':np.nan, 'composers':np.nan, 'cinematographers':np.nan, 'editors':np.nan, 'editorial department':np.nan,\n",
    "          'production designers':np.nan, 'art directors':np.nan, 'costume designers':np.nan, 'production managers':np.nan, 'assistant directors':np.nan,\n",
    "          'top 250 rank':np.nan, 'production companies':np.nan, 'distributors':np.nan, 'other companies':np.nan}\n",
    "    \n",
    "    \n",
    "    search_ = ia.search_movie(movie_name)\n",
    "    if not search_:\n",
    "    return dict_\n",
    "    search_movie_id = [x.movieID for x in search_]\n",
    "    if not search_movie_id:\n",
    "    return dict_\n",
    "    movie_id = search_movie_id[0]\n",
    "    # for m_id in search_movie_id:\n",
    "    #   i = ia.get_movie(m_id)\n",
    "    #   if movie_name == i['original title'] if 'original title' in i and 'movie' == i['kind'] else np.nan and 'movie' == i['kind']:\n",
    "    #     movie_id = m_id\n",
    "    #     # print(m_id)\n",
    "    #     movie = ia.get_movie(movie_id)\n",
    "\n",
    "    movie = ia.get_movie(movie_id)\n",
    "    # localized title\n",
    "    dict_['localized title'] = movie['localized title'] if 'localized title' in movie else np.nan\n",
    "    # original title\n",
    "    dict_['original title'] = movie['original title'] if 'original title' in movie else np.nan\n",
    "    # imdbID\n",
    "    dict_['imdbID'] = movie['imdbID'] if 'imdbID' in movie else np.nan\n",
    "    # original air date\n",
    "    dict_['original air date'] = movie['original air date'] if 'original air date' in movie else np.nan\n",
    "    # genres\n",
    "    dict_['genres'] = ''.join(f'{x}, ' for x in movie['genres']) if 'genres' in movie else np.nan\n",
    "    # cast\n",
    "    dict_['cast'] = ''.join(f'{y}, ' for y in [x['name'] for x in movie['cast'] if 'name' in x and 'cast' in movie]) if 'cast' in movie else np.nan\n",
    "    # plot outline\n",
    "    dict_['plot outline'] = movie['plot outline'] if 'plot outline' in movie else np.nan\n",
    "    # rating\n",
    "    dict_['rating'] = movie['rating'] if 'rating' in movie else np.nan\n",
    "    # votes\n",
    "    dict_['votes'] = movie['votes'] if 'votes' in movie else np.nan\n",
    "    # age of content\n",
    "    dict_['age of content'] = 2021 - int(movie['year']) if 'year' in movie else np.nan\n",
    "    # directors\n",
    "    dict_['directors'] = ''.join(f'{y}, ' for y in [x['name'] for x in movie['directors'] if 'name' in x]) if 'directors' in movie else np.nan\n",
    "    # writers\n",
    "    dict_['writers'] = ''.join(f'{y}, ' for y in [x['name'] for x in movie['writers'] if 'name' in x]) if 'writers' in movie else np.nan\n",
    "    # producers\n",
    "    dict_['producers'] = ''.join(f'{y}, ' for y in [x['name'] for x in movie['producers'] if 'name' in x])  if 'producers' in movie else np.nan\n",
    "    # composers\n",
    "    dict_['composers'] = ''.join(f'{y}, ' for y in [x['name'] for x in movie['composers'] if 'name' in x])  if 'composers' in movie else np.nan\n",
    "    # cinematographers\n",
    "    dict_['cinematographers'] = ''.join(f'{y}, ' for y in [x['name'] for x in movie['cinematographers'] if 'name' in x]) if 'cinematographers' in movie else np.nan\n",
    "    # editors\n",
    "    dict_['editors'] = ''.join(f'{y}, ' for y in [x['name'] for x in movie['editors'] if 'name' in x]) if 'editors' in movie else np.nan\n",
    "    # editorial department\n",
    "    dict_['editorial department'] = ''.join(f'{y}, ' for y in [x['name'] for x in movie['editorial department'] if 'name' in x]) if 'editorial department' in movie else np.nan\n",
    "    # production designers\n",
    "    dict_['production designers'] = ''.join(f'{y}, ' for y in [x['name'] for x in movie['production designers'] if 'name' in x]) if 'production designers' in movie else np.nan\n",
    "    # art directors\n",
    "    dict_['art directors'] = ''.join(f'{y}, ' for y in [x['name'] for x in movie['art directors'] if 'name' in x])  if 'art directors' in movie else np.nan\n",
    "    # costume designers\n",
    "    dict_['costume designers'] = ''.join(f'{y}, ' for y in [x['name'] for x in movie['costume designers'] if 'name' in x]) if 'costume designers' in movie else np.nan\n",
    "    # production managers\n",
    "    dict_['production managers'] = ''.join(f'{y}, ' for y in [x['name'] for x in movie['production managers'] if 'name' in x]) if 'production managers' in movie else np.nan\n",
    "    # assistant directors\n",
    "    dict_['assistant directors'] = ''.join(f'{y}, ' for y in [x['name'] for x in movie['assistant directors'] if 'name' in x])  if 'assistant directors' in movie else np.nan\n",
    "    # top 250 rank\n",
    "    dict_['top 250 rank'] = movie['top 250 rank'] if 'top 250 rank' in movie else np.nan\n",
    "    # production companies\n",
    "    dict_['production companies'] = ''.join(f'{y}, ' for y in [x['name'] for x in movie['production companies'] if 'name' in x]) if 'production companies' in movie else np.nan\n",
    "    # distributors\n",
    "    dict_['distributors'] = ''.join(f'{y}, ' for y in [x['name'] for x in movie['distributors'] if 'name' in x]) if 'distributors' in movie else np.nan\n",
    "    # other companies\n",
    "    dict_['other companies'] = ''.join(f'{y}, ' for y in [x['name'] for x in movie['other companies'] if 'name' in x]) if 'other companies' in movie else np.nan\n",
    "\n",
    "    return dict_"
   ]
  },
  {
   "cell_type": "code",
   "execution_count": 190,
   "metadata": {
    "colab": {
     "base_uri": "https://localhost:8080/"
    },
    "id": "ottHdkm-cKpP",
    "outputId": "b108e5bb-38b8-462f-e139-da5430224fa3"
   },
   "outputs": [
    {
     "data": {
      "text/plain": [
       "{'age of content': 14,\n",
       " 'art directors': 'Sachin Bhoir, ',\n",
       " 'assistant directors': 'Suvahhdan Angre, Nazneen Bhatia, Ram Madhvani, Tanmay Mohan, Sunil Pandey, Shikha Rahi, Akshay Roy, ',\n",
       " 'cast': 'Darsheel Safary, Aamir Khan, Tisca Chopra, Vipin Sharma, Sachet Engineer, Tanay Chheda, Lalitha Lajmi, Girija Oak, Ravi Khanvilkar, Pratima Kulkarni, Meghna Malik, Sonali Sachdev, Sanjay Dadich, Rajgopal Iyer, Bugs Bhargava Krishna, Shankar Sachdev, M.K. Raina, Gurkirtan, Gurdeepak Kaur, Alorika Chatterjee, Megha Bengali, Munireh Guhilot, Girish Kumar Menon, Vivekanandan, Madhav Datt, Prashant, Vitthal, Jadav, Ramit Gupta, Arnav Valcha, Brihan Lamba, Ricky, Krishn Gopinath, Ayaan, Veer Mohan, Aniket Engineer, Abhishek Bachchan, Samir Rajda, Sanjay Sinha, ',\n",
       " 'cinematographers': 'Satyajit Pande, ',\n",
       " 'composers': 'Shankar Mahadevan, Loy Mendonsa, Ehsaan Noorani, ',\n",
       " 'costume designers': 'Priyanjali Lahiri, ',\n",
       " 'directors': 'Aamir Khan, Amole Gupte, ',\n",
       " 'distributors': 'UTV Motion Pictures, Atnine Film, Walt Disney Studios Home Entertainment, ',\n",
       " 'editorial department': 'Dutta Anirban, Rohan Desai, Pallavi Singhal, Joginder Singh Varna, ',\n",
       " 'editors': 'Deepa Bhatia, ',\n",
       " 'genres': 'Drama, Family, ',\n",
       " 'imdbID': '0986264',\n",
       " 'localized title': 'Like Stars on Earth',\n",
       " 'original air date': '21 Dec 2007 (Canada)',\n",
       " 'original title': 'Taare Zameen Par',\n",
       " 'other companies': \"Anand Recording Studios, Bimal Parekh & Co., Channel V, Epigram, Laqshya Global 'OOH' Media Asset & Solutions, Light & Grips Equipment Hirers India, Microsoft Network, Movie Talkies, New Era School, Panchgani, Prime Focus, Prime Focus, Spice PR, Spice, St. Xaviers School, T-Series, Tata Elxsi Visual Computing Lab, Trigger Happy Entertainment, \",\n",
       " 'plot outline': \"Ishaan Awasthi is an eight-year-old child whose world is filled with wonders that no one else seems to appretiate are just not important in the world of adults, who are much more interested in things like homework, marks and neatness. And Ishaan just cannot seem to get anything right in class. When he gets into far more trouble than his parents can handle, he is packed off to a boarding school to 'be disciplined'. Things are no different at his new school, and Ishaan has to contend with the added trauma of separation from his family. One day a new art teacher bursts onto the scene, Ram Shankar Nikumbh, who infects the students with joy and optimism. He breaks all the rules of 'how things are done' by asking them to think, dream and imagine, and all the children respond with enthusiasm, all except Ishaan. Nikumbh soon realizes that Ishaan is very unhappy, and he sets out to discover why. With time, patience and care, he ultimately helps Ishaan find himself.\",\n",
       " 'producers': 'Ajay Bijli, Sanjeev K. Bijli, Aamir Khan, Sunitha Ram, B. Shrinivas Rao, Kiran Rao, Manoj Shroff, ',\n",
       " 'production companies': 'Aamir Khan Productions, PVR Pictures, ',\n",
       " 'production designers': 'Shruti Gupte, ',\n",
       " 'production managers': 'Gopal Bhasin, Advait Chandan, Sunil Dolamani Panda, Rama Rao, Mahesh Tawde, ',\n",
       " 'rating': 8.4,\n",
       " 'top 250 rank': 92,\n",
       " 'votes': 178725,\n",
       " 'writers': 'Amole Gupte, Amole Gupte, '}"
      ]
     },
     "execution_count": 190,
     "metadata": {
      "tags": []
     },
     "output_type": "execute_result"
    }
   ],
   "source": [
    "get_all_details_of_movie('Taare Zameen Par')"
   ]
  },
  {
   "cell_type": "markdown",
   "metadata": {},
   "source": [
    "## Create empty dataframe and save all details"
   ]
  },
  {
   "cell_type": "code",
   "execution_count": 260,
   "metadata": {
    "colab": {
     "base_uri": "https://localhost:8080/"
    },
    "id": "wtUVyJb21VKs",
    "outputId": "52b59358-bb72-4509-aa5d-cbe7b6117401"
   },
   "outputs": [
    {
     "name": "stderr",
     "output_type": "stream",
     "text": [
      "4000it [1:16:43,  1.15s/it]\n"
     ]
    }
   ],
   "source": [
    "from tqdm import tqdm\n",
    "final_data = pd.DataFrame(columns=['localized title', 'original title', 'imdbID', 'original air date', 'genres', 'cast', 'plot outline', 'rating', \n",
    "                                   'votes', 'age of content', 'directors', 'writers', 'producers', 'composers', 'cinematographers', 'editors',\n",
    "                                   'editorial department', 'production designers', 'art directors', 'costume designers', 'production managers',\n",
    "                                   'assistant directors', 'top 250 rank', 'production companies', 'distributors', 'other companies'])\n",
    "for index_num, row in tqdm(movies.iterrows()):\n",
    "    movie_search = row['Movie Title']\n",
    "    if not IMDb().search_movie(movie_search):\n",
    "        index_num\n",
    "    else: \n",
    "        movie_data = get_all_details_of_movie(movie_search)\n",
    "        final_data = final_data.append(movie_data, True)"
   ]
  },
  {
   "cell_type": "code",
   "execution_count": 261,
   "metadata": {
    "colab": {
     "base_uri": "https://localhost:8080/",
     "height": 1000
    },
    "id": "v71sZ38k2vC_",
    "outputId": "0b74071d-8a23-4763-d349-16edbb665ea4"
   },
   "outputs": [
    {
     "data": {
      "text/html": [
       "<div>\n",
       "<style scoped>\n",
       "    .dataframe tbody tr th:only-of-type {\n",
       "        vertical-align: middle;\n",
       "    }\n",
       "\n",
       "    .dataframe tbody tr th {\n",
       "        vertical-align: top;\n",
       "    }\n",
       "\n",
       "    .dataframe thead th {\n",
       "        text-align: right;\n",
       "    }\n",
       "</style>\n",
       "<table border=\"1\" class=\"dataframe\">\n",
       "  <thead>\n",
       "    <tr style=\"text-align: right;\">\n",
       "      <th></th>\n",
       "      <th>localized title</th>\n",
       "      <th>original title</th>\n",
       "      <th>imdbID</th>\n",
       "      <th>original air date</th>\n",
       "      <th>genres</th>\n",
       "      <th>cast</th>\n",
       "      <th>plot outline</th>\n",
       "      <th>rating</th>\n",
       "      <th>votes</th>\n",
       "      <th>age of content</th>\n",
       "      <th>directors</th>\n",
       "      <th>writers</th>\n",
       "      <th>producers</th>\n",
       "      <th>composers</th>\n",
       "      <th>cinematographers</th>\n",
       "      <th>editors</th>\n",
       "      <th>editorial department</th>\n",
       "      <th>production designers</th>\n",
       "      <th>art directors</th>\n",
       "      <th>costume designers</th>\n",
       "      <th>production managers</th>\n",
       "      <th>assistant directors</th>\n",
       "      <th>top 250 rank</th>\n",
       "      <th>production companies</th>\n",
       "      <th>distributors</th>\n",
       "      <th>other companies</th>\n",
       "    </tr>\n",
       "  </thead>\n",
       "  <tbody>\n",
       "    <tr>\n",
       "      <th>0</th>\n",
       "      <td>3 Idiots</td>\n",
       "      <td>NaN</td>\n",
       "      <td>1187043</td>\n",
       "      <td>24 Dec 2009 (Australia)</td>\n",
       "      <td>Comedy, Drama,</td>\n",
       "      <td>Aamir Khan, Madhavan, Sharman Joshi, Kareena K...</td>\n",
       "      <td>Farhan Qureshi and Raju Rastogi want to re-uni...</td>\n",
       "      <td>8.4</td>\n",
       "      <td>363981</td>\n",
       "      <td>12</td>\n",
       "      <td>Rajkumar Hirani,</td>\n",
       "      <td>Rajkumar Hirani, Abhijat Joshi, Vidhu Vinod Ch...</td>\n",
       "      <td>Deepak Bhagra, Vidhu Vinod Chopra, Vir Chopra,...</td>\n",
       "      <td>Shantanu Moitra, Atul Raninga, Sanjay Wandrekar,</td>\n",
       "      <td>C.K. Muraleedharan,</td>\n",
       "      <td>Rajkumar Hirani,</td>\n",
       "      <td>Ranjeet Bahadur, Rahul Bhadve, Gaurav Chandely...</td>\n",
       "      <td>Sumit Basu, Rajnish Hedao,</td>\n",
       "      <td>Rajnish Hedao,</td>\n",
       "      <td>Manish Malhotra, Sheena Parikh, Raghuveer Shet...</td>\n",
       "      <td>Ravi Barnabas, Atishay Dayal, Bharat Jha, Pars...</td>\n",
       "      <td>Gaurav Chandelya, Maheep Dhillon, Mrunmayee La...</td>\n",
       "      <td>82</td>\n",
       "      <td>Vinod Chopra Productions,</td>\n",
       "      <td>Reliance Big Pictures, Reliance Big Pictures, ...</td>\n",
       "      <td>Acropolis, Anil Girkar &amp; Co., Aradhana Sound S...</td>\n",
       "    </tr>\n",
       "    <tr>\n",
       "      <th>1</th>\n",
       "      <td>Like Stars on Earth</td>\n",
       "      <td>Taare Zameen Par</td>\n",
       "      <td>0986264</td>\n",
       "      <td>21 Dec 2007 (Canada)</td>\n",
       "      <td>Drama, Family,</td>\n",
       "      <td>Darsheel Safary, Aamir Khan, Tisca Chopra, Vip...</td>\n",
       "      <td>Ishaan Awasthi is an eight-year-old child whos...</td>\n",
       "      <td>8.4</td>\n",
       "      <td>178891</td>\n",
       "      <td>14</td>\n",
       "      <td>Aamir Khan, Amole Gupte,</td>\n",
       "      <td>Amole Gupte, Amole Gupte,</td>\n",
       "      <td>Ajay Bijli, Sanjeev K. Bijli, Aamir Khan, Suni...</td>\n",
       "      <td>Shankar Mahadevan, Loy Mendonsa, Ehsaan Noorani,</td>\n",
       "      <td>Satyajit Pande,</td>\n",
       "      <td>Deepa Bhatia,</td>\n",
       "      <td>Dutta Anirban, Rohan Desai, Pallavi Singhal, J...</td>\n",
       "      <td>Shruti Gupte,</td>\n",
       "      <td>Sachin Bhoir,</td>\n",
       "      <td>Priyanjali Lahiri,</td>\n",
       "      <td>Gopal Bhasin, Advait Chandan, Sunil Dolamani P...</td>\n",
       "      <td>Suvahhdan Angre, Nazneen Bhatia, Ram Madhvani,...</td>\n",
       "      <td>92</td>\n",
       "      <td>Aamir Khan Productions, PVR Pictures,</td>\n",
       "      <td>UTV Motion Pictures, Atnine Film, Walt Disney ...</td>\n",
       "      <td>Anand Recording Studios, Bimal Parekh &amp; Co., C...</td>\n",
       "    </tr>\n",
       "    <tr>\n",
       "      <th>2</th>\n",
       "      <td>Junk Films</td>\n",
       "      <td>NaN</td>\n",
       "      <td>7424106</td>\n",
       "      <td>2012 (Japan)</td>\n",
       "      <td>Documentary,</td>\n",
       "      <td>David Aitken,</td>\n",
       "      <td>NaN</td>\n",
       "      <td>5.9</td>\n",
       "      <td>23</td>\n",
       "      <td>13</td>\n",
       "      <td>Kiyotaka Tsurisaki,</td>\n",
       "      <td>NaN</td>\n",
       "      <td>Kiyotaka Tsurisaki,</td>\n",
       "      <td>NaN</td>\n",
       "      <td>Kiyotaka Tsurisaki,</td>\n",
       "      <td>Kiyotaka Tsurisaki,</td>\n",
       "      <td>NaN</td>\n",
       "      <td>NaN</td>\n",
       "      <td>NaN</td>\n",
       "      <td>NaN</td>\n",
       "      <td>NaN</td>\n",
       "      <td>NaN</td>\n",
       "      <td>NaN</td>\n",
       "      <td>Orozco Productions,</td>\n",
       "      <td>Massacre Video,</td>\n",
       "      <td>NaN</td>\n",
       "    </tr>\n",
       "    <tr>\n",
       "      <th>3</th>\n",
       "      <td>Baba - musical film on Bangabandhu</td>\n",
       "      <td>NaN</td>\n",
       "      <td>14161518</td>\n",
       "      <td>15 Aug 2020 (Australia)</td>\n",
       "      <td>Short, Musical,</td>\n",
       "      <td>Rahmatullah, Nafisa Shama Probha, Fitria Purbo...</td>\n",
       "      <td>NaN</td>\n",
       "      <td>NaN</td>\n",
       "      <td>NaN</td>\n",
       "      <td>1</td>\n",
       "      <td>Raymond Salomonn,</td>\n",
       "      <td>Raymond Salomonn,</td>\n",
       "      <td>Raymond Salomonn,</td>\n",
       "      <td>James Englund,</td>\n",
       "      <td>Shimul Shikder,</td>\n",
       "      <td>Shimul Shikder,</td>\n",
       "      <td>NaN</td>\n",
       "      <td>NaN</td>\n",
       "      <td>NaN</td>\n",
       "      <td>NaN</td>\n",
       "      <td>NaN</td>\n",
       "      <td>Fahad Asmar,</td>\n",
       "      <td>NaN</td>\n",
       "      <td>NaN</td>\n",
       "      <td>NaN</td>\n",
       "      <td>NaN</td>\n",
       "    </tr>\n",
       "    <tr>\n",
       "      <th>4</th>\n",
       "      <td>Rang De Basanti</td>\n",
       "      <td>NaN</td>\n",
       "      <td>0405508</td>\n",
       "      <td>26 Jan 2006 (USA)</td>\n",
       "      <td>Comedy, Crime, Drama,</td>\n",
       "      <td>Aamir Khan, Siddharth, Sharman Joshi, Kunal Ka...</td>\n",
       "      <td>Sue comes to India to make a film on Indian re...</td>\n",
       "      <td>8.1</td>\n",
       "      <td>115822</td>\n",
       "      <td>15</td>\n",
       "      <td>Rakeysh Omprakash Mehra,</td>\n",
       "      <td>Renzil D'Silva, Ajeet Ghorpade, Prasoon Joshi,...</td>\n",
       "      <td>Adam Bohling, Deven Khote, Guruprasad M., Rake...</td>\n",
       "      <td>A.R. Rahman,</td>\n",
       "      <td>Binod Pradhan,</td>\n",
       "      <td>P.S. Bharathi,</td>\n",
       "      <td>Ken Metzker, S.N.V. Ramana, Arvind Singh, S. R...</td>\n",
       "      <td>Samir Chanda,</td>\n",
       "      <td>Samir Chanda, Chetan Pathak,</td>\n",
       "      <td>Lovleen Bains, Arjun Bhasin,</td>\n",
       "      <td>Sachin Agarwal, Sayed Ashfaque, Gaurav Dhingra...</td>\n",
       "      <td>Akhil Bali, Paran Bawa, Promita Bhattacharya, ...</td>\n",
       "      <td>NaN</td>\n",
       "      <td>ROMP, UTV Motion Pictures,</td>\n",
       "      <td>Aagaaz Entertainment, Rapid Eye Movies,</td>\n",
       "      <td>Gaurav Digital, Movie Talkies, Seek Red, Sony ...</td>\n",
       "    </tr>\n",
       "    <tr>\n",
       "      <th>...</th>\n",
       "      <td>...</td>\n",
       "      <td>...</td>\n",
       "      <td>...</td>\n",
       "      <td>...</td>\n",
       "      <td>...</td>\n",
       "      <td>...</td>\n",
       "      <td>...</td>\n",
       "      <td>...</td>\n",
       "      <td>...</td>\n",
       "      <td>...</td>\n",
       "      <td>...</td>\n",
       "      <td>...</td>\n",
       "      <td>...</td>\n",
       "      <td>...</td>\n",
       "      <td>...</td>\n",
       "      <td>...</td>\n",
       "      <td>...</td>\n",
       "      <td>...</td>\n",
       "      <td>...</td>\n",
       "      <td>...</td>\n",
       "      <td>...</td>\n",
       "      <td>...</td>\n",
       "      <td>...</td>\n",
       "      <td>...</td>\n",
       "      <td>...</td>\n",
       "      <td>...</td>\n",
       "    </tr>\n",
       "    <tr>\n",
       "      <th>3011</th>\n",
       "      <td>Swarg Jaisaa Ghar</td>\n",
       "      <td>NaN</td>\n",
       "      <td>0364039</td>\n",
       "      <td>29 Nov 1991 (India)</td>\n",
       "      <td>Drama, Family,</td>\n",
       "      <td>Raj Babbar, Sumeet Saigal, Aashif Sheikh, Anit...</td>\n",
       "      <td>After the passing away of his mom, Raj's dad r...</td>\n",
       "      <td>2.8</td>\n",
       "      <td>10</td>\n",
       "      <td>30</td>\n",
       "      <td>Swaroop Kumar,</td>\n",
       "      <td>NaN</td>\n",
       "      <td>Mehmood Nazir,</td>\n",
       "      <td>Bappi Lahiri,</td>\n",
       "      <td>NaN</td>\n",
       "      <td>NaN</td>\n",
       "      <td>NaN</td>\n",
       "      <td>NaN</td>\n",
       "      <td>NaN</td>\n",
       "      <td>NaN</td>\n",
       "      <td>NaN</td>\n",
       "      <td>NaN</td>\n",
       "      <td>NaN</td>\n",
       "      <td>NaN</td>\n",
       "      <td>NaN</td>\n",
       "      <td>NaN</td>\n",
       "    </tr>\n",
       "    <tr>\n",
       "      <th>3012</th>\n",
       "      <td>Sorry Daddy</td>\n",
       "      <td>NaN</td>\n",
       "      <td>4994210</td>\n",
       "      <td>11 Sep 2015 (India)</td>\n",
       "      <td>Action,</td>\n",
       "      <td>Shamim Khan, Anupam Shukla, Mukesh Tiwari, Tin...</td>\n",
       "      <td>Inspector Ravi Sharma (Shamim Khan) is very ho...</td>\n",
       "      <td>5.0</td>\n",
       "      <td>9</td>\n",
       "      <td>6</td>\n",
       "      <td>Vijay Pal,</td>\n",
       "      <td>NaN</td>\n",
       "      <td>Wasim s Khan,</td>\n",
       "      <td>Vaishnav Deva,</td>\n",
       "      <td>NaN</td>\n",
       "      <td>NaN</td>\n",
       "      <td>NaN</td>\n",
       "      <td>NaN</td>\n",
       "      <td>NaN</td>\n",
       "      <td>NaN</td>\n",
       "      <td>NaN</td>\n",
       "      <td>Sukhpal Singh,</td>\n",
       "      <td>NaN</td>\n",
       "      <td>S K Films Entertainment,</td>\n",
       "      <td>Pen N Camera International,</td>\n",
       "      <td>NaN</td>\n",
       "    </tr>\n",
       "    <tr>\n",
       "      <th>3013</th>\n",
       "      <td>Raadha Aur Seeta</td>\n",
       "      <td>NaN</td>\n",
       "      <td>0378633</td>\n",
       "      <td>10 Aug 1979 (India)</td>\n",
       "      <td>Drama, Family,</td>\n",
       "      <td>Rajendranath Malhotra, Madan Puri, Leela Mishr...</td>\n",
       "      <td>After having completed his masters with honors...</td>\n",
       "      <td>6.0</td>\n",
       "      <td>14</td>\n",
       "      <td>42</td>\n",
       "      <td>Vijay Kapoor,</td>\n",
       "      <td>NaN</td>\n",
       "      <td>Tarachand Barjatya,</td>\n",
       "      <td>Ravindra Jain,</td>\n",
       "      <td>NaN</td>\n",
       "      <td>NaN</td>\n",
       "      <td>NaN</td>\n",
       "      <td>NaN</td>\n",
       "      <td>NaN</td>\n",
       "      <td>NaN</td>\n",
       "      <td>NaN</td>\n",
       "      <td>NaN</td>\n",
       "      <td>NaN</td>\n",
       "      <td>Rajshri Productions,</td>\n",
       "      <td>Esquire (Electronics) Ltd.,</td>\n",
       "      <td>NaN</td>\n",
       "    </tr>\n",
       "    <tr>\n",
       "      <th>3014</th>\n",
       "      <td>Dafaa 302: Indian Penal Code Section 302 (Sect...</td>\n",
       "      <td>NaN</td>\n",
       "      <td>0359129</td>\n",
       "      <td>NaN</td>\n",
       "      <td>Drama, Mystery,</td>\n",
       "      <td>Randhir Kapoor, Rekha, Ajit, Ashok Kumar, Prem...</td>\n",
       "      <td>Mohan Lal lives in a small rural town in India...</td>\n",
       "      <td>4.9</td>\n",
       "      <td>10</td>\n",
       "      <td>46</td>\n",
       "      <td>K. Shrivastava,</td>\n",
       "      <td>NaN</td>\n",
       "      <td>B. Gupta,</td>\n",
       "      <td>Laxmikant Shantaram Kudalkar, Pyarelal Rampras...</td>\n",
       "      <td>NaN</td>\n",
       "      <td>NaN</td>\n",
       "      <td>NaN</td>\n",
       "      <td>NaN</td>\n",
       "      <td>NaN</td>\n",
       "      <td>NaN</td>\n",
       "      <td>NaN</td>\n",
       "      <td>NaN</td>\n",
       "      <td>NaN</td>\n",
       "      <td>Fine Art Pictures,</td>\n",
       "      <td>NaN</td>\n",
       "      <td>NaN</td>\n",
       "    </tr>\n",
       "    <tr>\n",
       "      <th>3015</th>\n",
       "      <td>Actress Diana Porter &amp; Actor/Filmmaker Rick Du...</td>\n",
       "      <td>NaN</td>\n",
       "      <td>5112582</td>\n",
       "      <td>22 Aug 2012</td>\n",
       "      <td>Talk-Show,</td>\n",
       "      <td>Harrison Young, Rick Dumont, Diana Porter,</td>\n",
       "      <td>The Massachusetts-based cable television show ...</td>\n",
       "      <td>NaN</td>\n",
       "      <td>NaN</td>\n",
       "      <td>9</td>\n",
       "      <td>Chris Lawn,</td>\n",
       "      <td>Harrison Young,</td>\n",
       "      <td>Angel Connell, Jon Grabowski, Chris Lawn, Harr...</td>\n",
       "      <td>NaN</td>\n",
       "      <td>NaN</td>\n",
       "      <td>NaN</td>\n",
       "      <td>NaN</td>\n",
       "      <td>NaN</td>\n",
       "      <td>NaN</td>\n",
       "      <td>NaN</td>\n",
       "      <td>NaN</td>\n",
       "      <td>NaN</td>\n",
       "      <td>NaN</td>\n",
       "      <td>Topic Time Productions,</td>\n",
       "      <td>Marshfield Public Access Television,</td>\n",
       "      <td>NaN</td>\n",
       "    </tr>\n",
       "  </tbody>\n",
       "</table>\n",
       "<p>3016 rows × 26 columns</p>\n",
       "</div>"
      ],
      "text/plain": [
       "                                        localized title  ...                                    other companies\n",
       "0                                              3 Idiots  ...  Acropolis, Anil Girkar & Co., Aradhana Sound S...\n",
       "1                                   Like Stars on Earth  ...  Anand Recording Studios, Bimal Parekh & Co., C...\n",
       "2                                            Junk Films  ...                                                NaN\n",
       "3                    Baba - musical film on Bangabandhu  ...                                                NaN\n",
       "4                                       Rang De Basanti  ...  Gaurav Digital, Movie Talkies, Seek Red, Sony ...\n",
       "...                                                 ...  ...                                                ...\n",
       "3011                                  Swarg Jaisaa Ghar  ...                                                NaN\n",
       "3012                                        Sorry Daddy  ...                                                NaN\n",
       "3013                                   Raadha Aur Seeta  ...                                                NaN\n",
       "3014  Dafaa 302: Indian Penal Code Section 302 (Sect...  ...                                                NaN\n",
       "3015  Actress Diana Porter & Actor/Filmmaker Rick Du...  ...                                                NaN\n",
       "\n",
       "[3016 rows x 26 columns]"
      ]
     },
     "execution_count": 261,
     "metadata": {
      "tags": []
     },
     "output_type": "execute_result"
    }
   ],
   "source": [
    "final_data"
   ]
  },
  {
   "cell_type": "markdown",
   "metadata": {},
   "source": [
    "## Save all details to `.csv` file"
   ]
  },
  {
   "cell_type": "code",
   "execution_count": 262,
   "metadata": {
    "id": "YTD_qVeOh-Pw"
   },
   "outputs": [],
   "source": [
    "final_data.to_csv('final_data.csv', index=False)"
   ]
  },
  {
   "cell_type": "markdown",
   "metadata": {
    "id": "6mOMUF-9d1TA"
   },
   "source": [
    "## Load `.csv` file"
   ]
  },
  {
   "cell_type": "code",
   "execution_count": 25,
   "metadata": {
    "ExecuteTime": {
     "end_time": "2021-08-16T19:29:57.937312Z",
     "start_time": "2021-08-16T19:29:57.723535Z"
    }
   },
   "outputs": [
    {
     "data": {
      "text/html": [
       "<div>\n",
       "<style scoped>\n",
       "    .dataframe tbody tr th:only-of-type {\n",
       "        vertical-align: middle;\n",
       "    }\n",
       "\n",
       "    .dataframe tbody tr th {\n",
       "        vertical-align: top;\n",
       "    }\n",
       "\n",
       "    .dataframe thead th {\n",
       "        text-align: right;\n",
       "    }\n",
       "</style>\n",
       "<table border=\"1\" class=\"dataframe\">\n",
       "  <thead>\n",
       "    <tr style=\"text-align: right;\">\n",
       "      <th></th>\n",
       "      <th>localized title</th>\n",
       "      <th>original title</th>\n",
       "      <th>imdbID</th>\n",
       "      <th>original air date</th>\n",
       "      <th>genres</th>\n",
       "      <th>cast</th>\n",
       "      <th>plot outline</th>\n",
       "      <th>rating</th>\n",
       "      <th>votes</th>\n",
       "      <th>age of content</th>\n",
       "      <th>...</th>\n",
       "      <th>editorial department</th>\n",
       "      <th>production designers</th>\n",
       "      <th>art directors</th>\n",
       "      <th>costume designers</th>\n",
       "      <th>production managers</th>\n",
       "      <th>assistant directors</th>\n",
       "      <th>top 250 rank</th>\n",
       "      <th>production companies</th>\n",
       "      <th>distributors</th>\n",
       "      <th>other companies</th>\n",
       "    </tr>\n",
       "  </thead>\n",
       "  <tbody>\n",
       "    <tr>\n",
       "      <th>0</th>\n",
       "      <td>3 Idiots</td>\n",
       "      <td>NaN</td>\n",
       "      <td>1187043</td>\n",
       "      <td>24 Dec 2009 (Australia)</td>\n",
       "      <td>Comedy, Drama,</td>\n",
       "      <td>Aamir Khan, Madhavan, Sharman Joshi, Kareena K...</td>\n",
       "      <td>Farhan Qureshi and Raju Rastogi want to re-uni...</td>\n",
       "      <td>8.4</td>\n",
       "      <td>363981.0</td>\n",
       "      <td>12.0</td>\n",
       "      <td>...</td>\n",
       "      <td>Ranjeet Bahadur, Rahul Bhadve, Gaurav Chandely...</td>\n",
       "      <td>Sumit Basu, Rajnish Hedao,</td>\n",
       "      <td>Rajnish Hedao,</td>\n",
       "      <td>Manish Malhotra, Sheena Parikh, Raghuveer Shet...</td>\n",
       "      <td>Ravi Barnabas, Atishay Dayal, Bharat Jha, Pars...</td>\n",
       "      <td>Gaurav Chandelya, Maheep Dhillon, Mrunmayee La...</td>\n",
       "      <td>82.0</td>\n",
       "      <td>Vinod Chopra Productions,</td>\n",
       "      <td>Reliance Big Pictures, Reliance Big Pictures, ...</td>\n",
       "      <td>Acropolis, Anil Girkar &amp; Co., Aradhana Sound S...</td>\n",
       "    </tr>\n",
       "    <tr>\n",
       "      <th>1</th>\n",
       "      <td>Like Stars on Earth</td>\n",
       "      <td>Taare Zameen Par</td>\n",
       "      <td>986264</td>\n",
       "      <td>21 Dec 2007 (Canada)</td>\n",
       "      <td>Drama, Family,</td>\n",
       "      <td>Darsheel Safary, Aamir Khan, Tisca Chopra, Vip...</td>\n",
       "      <td>Ishaan Awasthi is an eight-year-old child whos...</td>\n",
       "      <td>8.4</td>\n",
       "      <td>178891.0</td>\n",
       "      <td>14.0</td>\n",
       "      <td>...</td>\n",
       "      <td>Dutta Anirban, Rohan Desai, Pallavi Singhal, J...</td>\n",
       "      <td>Shruti Gupte,</td>\n",
       "      <td>Sachin Bhoir,</td>\n",
       "      <td>Priyanjali Lahiri,</td>\n",
       "      <td>Gopal Bhasin, Advait Chandan, Sunil Dolamani P...</td>\n",
       "      <td>Suvahhdan Angre, Nazneen Bhatia, Ram Madhvani,...</td>\n",
       "      <td>92.0</td>\n",
       "      <td>Aamir Khan Productions, PVR Pictures,</td>\n",
       "      <td>UTV Motion Pictures, Atnine Film, Walt Disney ...</td>\n",
       "      <td>Anand Recording Studios, Bimal Parekh &amp; Co., C...</td>\n",
       "    </tr>\n",
       "    <tr>\n",
       "      <th>2</th>\n",
       "      <td>Junk Films</td>\n",
       "      <td>NaN</td>\n",
       "      <td>7424106</td>\n",
       "      <td>2012 (Japan)</td>\n",
       "      <td>Documentary,</td>\n",
       "      <td>David Aitken,</td>\n",
       "      <td>NaN</td>\n",
       "      <td>5.9</td>\n",
       "      <td>23.0</td>\n",
       "      <td>13.0</td>\n",
       "      <td>...</td>\n",
       "      <td>NaN</td>\n",
       "      <td>NaN</td>\n",
       "      <td>NaN</td>\n",
       "      <td>NaN</td>\n",
       "      <td>NaN</td>\n",
       "      <td>NaN</td>\n",
       "      <td>NaN</td>\n",
       "      <td>Orozco Productions,</td>\n",
       "      <td>Massacre Video,</td>\n",
       "      <td>NaN</td>\n",
       "    </tr>\n",
       "    <tr>\n",
       "      <th>3</th>\n",
       "      <td>Baba - musical film on Bangabandhu</td>\n",
       "      <td>NaN</td>\n",
       "      <td>14161518</td>\n",
       "      <td>15 Aug 2020 (Australia)</td>\n",
       "      <td>Short, Musical,</td>\n",
       "      <td>Rahmatullah, Nafisa Shama Probha, Fitria Purbo...</td>\n",
       "      <td>NaN</td>\n",
       "      <td>NaN</td>\n",
       "      <td>NaN</td>\n",
       "      <td>1.0</td>\n",
       "      <td>...</td>\n",
       "      <td>NaN</td>\n",
       "      <td>NaN</td>\n",
       "      <td>NaN</td>\n",
       "      <td>NaN</td>\n",
       "      <td>NaN</td>\n",
       "      <td>Fahad Asmar,</td>\n",
       "      <td>NaN</td>\n",
       "      <td>NaN</td>\n",
       "      <td>NaN</td>\n",
       "      <td>NaN</td>\n",
       "    </tr>\n",
       "    <tr>\n",
       "      <th>4</th>\n",
       "      <td>Rang De Basanti</td>\n",
       "      <td>NaN</td>\n",
       "      <td>405508</td>\n",
       "      <td>26 Jan 2006 (USA)</td>\n",
       "      <td>Comedy, Crime, Drama,</td>\n",
       "      <td>Aamir Khan, Siddharth, Sharman Joshi, Kunal Ka...</td>\n",
       "      <td>Sue comes to India to make a film on Indian re...</td>\n",
       "      <td>8.1</td>\n",
       "      <td>115822.0</td>\n",
       "      <td>15.0</td>\n",
       "      <td>...</td>\n",
       "      <td>Ken Metzker, S.N.V. Ramana, Arvind Singh, S. R...</td>\n",
       "      <td>Samir Chanda,</td>\n",
       "      <td>Samir Chanda, Chetan Pathak,</td>\n",
       "      <td>Lovleen Bains, Arjun Bhasin,</td>\n",
       "      <td>Sachin Agarwal, Sayed Ashfaque, Gaurav Dhingra...</td>\n",
       "      <td>Akhil Bali, Paran Bawa, Promita Bhattacharya, ...</td>\n",
       "      <td>NaN</td>\n",
       "      <td>ROMP, UTV Motion Pictures,</td>\n",
       "      <td>Aagaaz Entertainment, Rapid Eye Movies,</td>\n",
       "      <td>Gaurav Digital, Movie Talkies, Seek Red, Sony ...</td>\n",
       "    </tr>\n",
       "    <tr>\n",
       "      <th>...</th>\n",
       "      <td>...</td>\n",
       "      <td>...</td>\n",
       "      <td>...</td>\n",
       "      <td>...</td>\n",
       "      <td>...</td>\n",
       "      <td>...</td>\n",
       "      <td>...</td>\n",
       "      <td>...</td>\n",
       "      <td>...</td>\n",
       "      <td>...</td>\n",
       "      <td>...</td>\n",
       "      <td>...</td>\n",
       "      <td>...</td>\n",
       "      <td>...</td>\n",
       "      <td>...</td>\n",
       "      <td>...</td>\n",
       "      <td>...</td>\n",
       "      <td>...</td>\n",
       "      <td>...</td>\n",
       "      <td>...</td>\n",
       "      <td>...</td>\n",
       "    </tr>\n",
       "    <tr>\n",
       "      <th>3011</th>\n",
       "      <td>Swarg Jaisaa Ghar</td>\n",
       "      <td>NaN</td>\n",
       "      <td>364039</td>\n",
       "      <td>29 Nov 1991 (India)</td>\n",
       "      <td>Drama, Family,</td>\n",
       "      <td>Raj Babbar, Sumeet Saigal, Aashif Sheikh, Anit...</td>\n",
       "      <td>After the passing away of his mom, Raj's dad r...</td>\n",
       "      <td>2.8</td>\n",
       "      <td>10.0</td>\n",
       "      <td>30.0</td>\n",
       "      <td>...</td>\n",
       "      <td>NaN</td>\n",
       "      <td>NaN</td>\n",
       "      <td>NaN</td>\n",
       "      <td>NaN</td>\n",
       "      <td>NaN</td>\n",
       "      <td>NaN</td>\n",
       "      <td>NaN</td>\n",
       "      <td>NaN</td>\n",
       "      <td>NaN</td>\n",
       "      <td>NaN</td>\n",
       "    </tr>\n",
       "    <tr>\n",
       "      <th>3012</th>\n",
       "      <td>Sorry Daddy</td>\n",
       "      <td>NaN</td>\n",
       "      <td>4994210</td>\n",
       "      <td>11 Sep 2015 (India)</td>\n",
       "      <td>Action,</td>\n",
       "      <td>Shamim Khan, Anupam Shukla, Mukesh Tiwari, Tin...</td>\n",
       "      <td>Inspector Ravi Sharma (Shamim Khan) is very ho...</td>\n",
       "      <td>5.0</td>\n",
       "      <td>9.0</td>\n",
       "      <td>6.0</td>\n",
       "      <td>...</td>\n",
       "      <td>NaN</td>\n",
       "      <td>NaN</td>\n",
       "      <td>NaN</td>\n",
       "      <td>NaN</td>\n",
       "      <td>NaN</td>\n",
       "      <td>Sukhpal Singh,</td>\n",
       "      <td>NaN</td>\n",
       "      <td>S K Films Entertainment,</td>\n",
       "      <td>Pen N Camera International,</td>\n",
       "      <td>NaN</td>\n",
       "    </tr>\n",
       "    <tr>\n",
       "      <th>3013</th>\n",
       "      <td>Raadha Aur Seeta</td>\n",
       "      <td>NaN</td>\n",
       "      <td>378633</td>\n",
       "      <td>10 Aug 1979 (India)</td>\n",
       "      <td>Drama, Family,</td>\n",
       "      <td>Rajendranath Malhotra, Madan Puri, Leela Mishr...</td>\n",
       "      <td>After having completed his masters with honors...</td>\n",
       "      <td>6.0</td>\n",
       "      <td>14.0</td>\n",
       "      <td>42.0</td>\n",
       "      <td>...</td>\n",
       "      <td>NaN</td>\n",
       "      <td>NaN</td>\n",
       "      <td>NaN</td>\n",
       "      <td>NaN</td>\n",
       "      <td>NaN</td>\n",
       "      <td>NaN</td>\n",
       "      <td>NaN</td>\n",
       "      <td>Rajshri Productions,</td>\n",
       "      <td>Esquire (Electronics) Ltd.,</td>\n",
       "      <td>NaN</td>\n",
       "    </tr>\n",
       "    <tr>\n",
       "      <th>3014</th>\n",
       "      <td>Dafaa 302: Indian Penal Code Section 302 (Sect...</td>\n",
       "      <td>NaN</td>\n",
       "      <td>359129</td>\n",
       "      <td>NaN</td>\n",
       "      <td>Drama, Mystery,</td>\n",
       "      <td>Randhir Kapoor, Rekha, Ajit, Ashok Kumar, Prem...</td>\n",
       "      <td>Mohan Lal lives in a small rural town in India...</td>\n",
       "      <td>4.9</td>\n",
       "      <td>10.0</td>\n",
       "      <td>46.0</td>\n",
       "      <td>...</td>\n",
       "      <td>NaN</td>\n",
       "      <td>NaN</td>\n",
       "      <td>NaN</td>\n",
       "      <td>NaN</td>\n",
       "      <td>NaN</td>\n",
       "      <td>NaN</td>\n",
       "      <td>NaN</td>\n",
       "      <td>Fine Art Pictures,</td>\n",
       "      <td>NaN</td>\n",
       "      <td>NaN</td>\n",
       "    </tr>\n",
       "    <tr>\n",
       "      <th>3015</th>\n",
       "      <td>Actress Diana Porter &amp; Actor/Filmmaker Rick Du...</td>\n",
       "      <td>NaN</td>\n",
       "      <td>5112582</td>\n",
       "      <td>22 Aug 2012</td>\n",
       "      <td>Talk-Show,</td>\n",
       "      <td>Harrison Young, Rick Dumont, Diana Porter,</td>\n",
       "      <td>The Massachusetts-based cable television show ...</td>\n",
       "      <td>NaN</td>\n",
       "      <td>NaN</td>\n",
       "      <td>9.0</td>\n",
       "      <td>...</td>\n",
       "      <td>NaN</td>\n",
       "      <td>NaN</td>\n",
       "      <td>NaN</td>\n",
       "      <td>NaN</td>\n",
       "      <td>NaN</td>\n",
       "      <td>NaN</td>\n",
       "      <td>NaN</td>\n",
       "      <td>Topic Time Productions,</td>\n",
       "      <td>Marshfield Public Access Television,</td>\n",
       "      <td>NaN</td>\n",
       "    </tr>\n",
       "  </tbody>\n",
       "</table>\n",
       "<p>3016 rows × 26 columns</p>\n",
       "</div>"
      ],
      "text/plain": [
       "                                        localized title    original title  \\\n",
       "0                                              3 Idiots               NaN   \n",
       "1                                   Like Stars on Earth  Taare Zameen Par   \n",
       "2                                            Junk Films               NaN   \n",
       "3                    Baba - musical film on Bangabandhu               NaN   \n",
       "4                                       Rang De Basanti               NaN   \n",
       "...                                                 ...               ...   \n",
       "3011                                  Swarg Jaisaa Ghar               NaN   \n",
       "3012                                        Sorry Daddy               NaN   \n",
       "3013                                   Raadha Aur Seeta               NaN   \n",
       "3014  Dafaa 302: Indian Penal Code Section 302 (Sect...               NaN   \n",
       "3015  Actress Diana Porter & Actor/Filmmaker Rick Du...               NaN   \n",
       "\n",
       "        imdbID        original air date                  genres  \\\n",
       "0      1187043  24 Dec 2009 (Australia)         Comedy, Drama,    \n",
       "1       986264     21 Dec 2007 (Canada)         Drama, Family,    \n",
       "2      7424106             2012 (Japan)           Documentary,    \n",
       "3     14161518  15 Aug 2020 (Australia)        Short, Musical,    \n",
       "4       405508        26 Jan 2006 (USA)  Comedy, Crime, Drama,    \n",
       "...        ...                      ...                     ...   \n",
       "3011    364039      29 Nov 1991 (India)         Drama, Family,    \n",
       "3012   4994210      11 Sep 2015 (India)                Action,    \n",
       "3013    378633      10 Aug 1979 (India)         Drama, Family,    \n",
       "3014    359129                      NaN        Drama, Mystery,    \n",
       "3015   5112582              22 Aug 2012             Talk-Show,    \n",
       "\n",
       "                                                   cast  \\\n",
       "0     Aamir Khan, Madhavan, Sharman Joshi, Kareena K...   \n",
       "1     Darsheel Safary, Aamir Khan, Tisca Chopra, Vip...   \n",
       "2                                        David Aitken,    \n",
       "3     Rahmatullah, Nafisa Shama Probha, Fitria Purbo...   \n",
       "4     Aamir Khan, Siddharth, Sharman Joshi, Kunal Ka...   \n",
       "...                                                 ...   \n",
       "3011  Raj Babbar, Sumeet Saigal, Aashif Sheikh, Anit...   \n",
       "3012  Shamim Khan, Anupam Shukla, Mukesh Tiwari, Tin...   \n",
       "3013  Rajendranath Malhotra, Madan Puri, Leela Mishr...   \n",
       "3014  Randhir Kapoor, Rekha, Ajit, Ashok Kumar, Prem...   \n",
       "3015        Harrison Young, Rick Dumont, Diana Porter,    \n",
       "\n",
       "                                           plot outline  rating     votes  \\\n",
       "0     Farhan Qureshi and Raju Rastogi want to re-uni...     8.4  363981.0   \n",
       "1     Ishaan Awasthi is an eight-year-old child whos...     8.4  178891.0   \n",
       "2                                                   NaN     5.9      23.0   \n",
       "3                                                   NaN     NaN       NaN   \n",
       "4     Sue comes to India to make a film on Indian re...     8.1  115822.0   \n",
       "...                                                 ...     ...       ...   \n",
       "3011  After the passing away of his mom, Raj's dad r...     2.8      10.0   \n",
       "3012  Inspector Ravi Sharma (Shamim Khan) is very ho...     5.0       9.0   \n",
       "3013  After having completed his masters with honors...     6.0      14.0   \n",
       "3014  Mohan Lal lives in a small rural town in India...     4.9      10.0   \n",
       "3015  The Massachusetts-based cable television show ...     NaN       NaN   \n",
       "\n",
       "      age of content  ...                               editorial department  \\\n",
       "0               12.0  ...  Ranjeet Bahadur, Rahul Bhadve, Gaurav Chandely...   \n",
       "1               14.0  ...  Dutta Anirban, Rohan Desai, Pallavi Singhal, J...   \n",
       "2               13.0  ...                                                NaN   \n",
       "3                1.0  ...                                                NaN   \n",
       "4               15.0  ...  Ken Metzker, S.N.V. Ramana, Arvind Singh, S. R...   \n",
       "...              ...  ...                                                ...   \n",
       "3011            30.0  ...                                                NaN   \n",
       "3012             6.0  ...                                                NaN   \n",
       "3013            42.0  ...                                                NaN   \n",
       "3014            46.0  ...                                                NaN   \n",
       "3015             9.0  ...                                                NaN   \n",
       "\n",
       "             production designers                  art directors  \\\n",
       "0     Sumit Basu, Rajnish Hedao,                 Rajnish Hedao,    \n",
       "1                  Shruti Gupte,                  Sachin Bhoir,    \n",
       "2                             NaN                            NaN   \n",
       "3                             NaN                            NaN   \n",
       "4                  Samir Chanda,   Samir Chanda, Chetan Pathak,    \n",
       "...                           ...                            ...   \n",
       "3011                          NaN                            NaN   \n",
       "3012                          NaN                            NaN   \n",
       "3013                          NaN                            NaN   \n",
       "3014                          NaN                            NaN   \n",
       "3015                          NaN                            NaN   \n",
       "\n",
       "                                      costume designers  \\\n",
       "0     Manish Malhotra, Sheena Parikh, Raghuveer Shet...   \n",
       "1                                   Priyanjali Lahiri,    \n",
       "2                                                   NaN   \n",
       "3                                                   NaN   \n",
       "4                         Lovleen Bains, Arjun Bhasin,    \n",
       "...                                                 ...   \n",
       "3011                                                NaN   \n",
       "3012                                                NaN   \n",
       "3013                                                NaN   \n",
       "3014                                                NaN   \n",
       "3015                                                NaN   \n",
       "\n",
       "                                    production managers  \\\n",
       "0     Ravi Barnabas, Atishay Dayal, Bharat Jha, Pars...   \n",
       "1     Gopal Bhasin, Advait Chandan, Sunil Dolamani P...   \n",
       "2                                                   NaN   \n",
       "3                                                   NaN   \n",
       "4     Sachin Agarwal, Sayed Ashfaque, Gaurav Dhingra...   \n",
       "...                                                 ...   \n",
       "3011                                                NaN   \n",
       "3012                                                NaN   \n",
       "3013                                                NaN   \n",
       "3014                                                NaN   \n",
       "3015                                                NaN   \n",
       "\n",
       "                                    assistant directors top 250 rank  \\\n",
       "0     Gaurav Chandelya, Maheep Dhillon, Mrunmayee La...         82.0   \n",
       "1     Suvahhdan Angre, Nazneen Bhatia, Ram Madhvani,...         92.0   \n",
       "2                                                   NaN          NaN   \n",
       "3                                         Fahad Asmar,           NaN   \n",
       "4     Akhil Bali, Paran Bawa, Promita Bhattacharya, ...          NaN   \n",
       "...                                                 ...          ...   \n",
       "3011                                                NaN          NaN   \n",
       "3012                                    Sukhpal Singh,           NaN   \n",
       "3013                                                NaN          NaN   \n",
       "3014                                                NaN          NaN   \n",
       "3015                                                NaN          NaN   \n",
       "\n",
       "                        production companies  \\\n",
       "0                 Vinod Chopra Productions,    \n",
       "1     Aamir Khan Productions, PVR Pictures,    \n",
       "2                       Orozco Productions,    \n",
       "3                                        NaN   \n",
       "4                ROMP, UTV Motion Pictures,    \n",
       "...                                      ...   \n",
       "3011                                     NaN   \n",
       "3012               S K Films Entertainment,    \n",
       "3013                   Rajshri Productions,    \n",
       "3014                     Fine Art Pictures,    \n",
       "3015                Topic Time Productions,    \n",
       "\n",
       "                                           distributors  \\\n",
       "0     Reliance Big Pictures, Reliance Big Pictures, ...   \n",
       "1     UTV Motion Pictures, Atnine Film, Walt Disney ...   \n",
       "2                                      Massacre Video,    \n",
       "3                                                   NaN   \n",
       "4              Aagaaz Entertainment, Rapid Eye Movies,    \n",
       "...                                                 ...   \n",
       "3011                                                NaN   \n",
       "3012                       Pen N Camera International,    \n",
       "3013                       Esquire (Electronics) Ltd.,    \n",
       "3014                                                NaN   \n",
       "3015              Marshfield Public Access Television,    \n",
       "\n",
       "                                        other companies  \n",
       "0     Acropolis, Anil Girkar & Co., Aradhana Sound S...  \n",
       "1     Anand Recording Studios, Bimal Parekh & Co., C...  \n",
       "2                                                   NaN  \n",
       "3                                                   NaN  \n",
       "4     Gaurav Digital, Movie Talkies, Seek Red, Sony ...  \n",
       "...                                                 ...  \n",
       "3011                                                NaN  \n",
       "3012                                                NaN  \n",
       "3013                                                NaN  \n",
       "3014                                                NaN  \n",
       "3015                                                NaN  \n",
       "\n",
       "[3016 rows x 26 columns]"
      ]
     },
     "execution_count": 25,
     "metadata": {},
     "output_type": "execute_result"
    }
   ],
   "source": [
    "df_movie = pd.read_csv('final_data.csv')\n",
    "df_movie"
   ]
  },
  {
   "cell_type": "code",
   "execution_count": 26,
   "metadata": {
    "ExecuteTime": {
     "end_time": "2021-08-16T19:52:02.896927Z",
     "start_time": "2021-08-16T19:52:02.849017Z"
    }
   },
   "outputs": [
    {
     "name": "stdout",
     "output_type": "stream",
     "text": [
      "<class 'pandas.core.frame.DataFrame'>\n",
      "RangeIndex: 3016 entries, 0 to 3015\n",
      "Data columns (total 26 columns):\n",
      " #   Column                Non-Null Count  Dtype  \n",
      "---  ------                --------------  -----  \n",
      " 0   localized title       2999 non-null   object \n",
      " 1   original title        62 non-null     object \n",
      " 2   imdbID                3016 non-null   int64  \n",
      " 3   original air date     2391 non-null   object \n",
      " 4   genres                2993 non-null   object \n",
      " 5   cast                  2963 non-null   object \n",
      " 6   plot outline          2482 non-null   object \n",
      " 7   rating                2834 non-null   float64\n",
      " 8   votes                 2834 non-null   float64\n",
      " 9   age of content        2999 non-null   float64\n",
      " 10  directors             2907 non-null   object \n",
      " 11  writers               2428 non-null   object \n",
      " 12  producers             2812 non-null   object \n",
      " 13  composers             2721 non-null   object \n",
      " 14  cinematographers      2267 non-null   object \n",
      " 15  editors               2208 non-null   object \n",
      " 16  editorial department  1738 non-null   object \n",
      " 17  production designers  716 non-null    object \n",
      " 18  art directors         1566 non-null   object \n",
      " 19  costume designers     1174 non-null   object \n",
      " 20  production managers   1534 non-null   object \n",
      " 21  assistant directors   1971 non-null   object \n",
      " 22  top 250 rank          6 non-null      float64\n",
      " 23  production companies  2468 non-null   object \n",
      " 24  distributors          1850 non-null   object \n",
      " 25  other companies       1518 non-null   object \n",
      "dtypes: float64(4), int64(1), object(21)\n",
      "memory usage: 612.8+ KB\n"
     ]
    }
   ],
   "source": [
    "df_movie.info()"
   ]
  },
  {
   "cell_type": "code",
   "execution_count": 27,
   "metadata": {
    "ExecuteTime": {
     "end_time": "2021-08-16T19:52:27.857033Z",
     "start_time": "2021-08-16T19:52:27.828148Z"
    }
   },
   "outputs": [
    {
     "data": {
      "text/plain": [
       "localized title           17\n",
       "original title          2954\n",
       "imdbID                     0\n",
       "original air date        625\n",
       "genres                    23\n",
       "cast                      53\n",
       "plot outline             534\n",
       "rating                   182\n",
       "votes                    182\n",
       "age of content            17\n",
       "directors                109\n",
       "writers                  588\n",
       "producers                204\n",
       "composers                295\n",
       "cinematographers         749\n",
       "editors                  808\n",
       "editorial department    1278\n",
       "production designers    2300\n",
       "art directors           1450\n",
       "costume designers       1842\n",
       "production managers     1482\n",
       "assistant directors     1045\n",
       "top 250 rank            3010\n",
       "production companies     548\n",
       "distributors            1166\n",
       "other companies         1498\n",
       "dtype: int64"
      ]
     },
     "execution_count": 27,
     "metadata": {},
     "output_type": "execute_result"
    }
   ],
   "source": [
    "df_movie.isna().sum()"
   ]
  },
  {
   "cell_type": "code",
   "execution_count": 29,
   "metadata": {
    "ExecuteTime": {
     "end_time": "2021-08-16T19:59:08.230343Z",
     "start_time": "2021-08-16T19:59:08.219373Z"
    }
   },
   "outputs": [
    {
     "data": {
      "text/plain": [
       " 7.0     106\n",
       " 6.0      97\n",
       " 5.0      92\n",
       " 4.0      90\n",
       " 8.0      79\n",
       "        ... \n",
       "-1.0       1\n",
       " 73.0      1\n",
       " 87.0      1\n",
       " 91.0      1\n",
       " 71.0      1\n",
       "Name: age of content, Length: 78, dtype: int64"
      ]
     },
     "execution_count": 29,
     "metadata": {},
     "output_type": "execute_result"
    }
   ],
   "source": [
    "# Age of content\n",
    "df_movie['age of content'].value_counts()"
   ]
  },
  {
   "cell_type": "code",
   "execution_count": null,
   "metadata": {},
   "outputs": [],
   "source": []
  }
 ],
 "metadata": {
  "colab": {
   "name": "Untitled5.ipynb",
   "provenance": []
  },
  "kernelspec": {
   "display_name": "Python 3 (ipykernel)",
   "language": "python",
   "name": "python3"
  },
  "language_info": {
   "codemirror_mode": {
    "name": "ipython",
    "version": 3
   },
   "file_extension": ".py",
   "mimetype": "text/x-python",
   "name": "python",
   "nbconvert_exporter": "python",
   "pygments_lexer": "ipython3",
   "version": "3.9.5"
  },
  "toc": {
   "base_numbering": 1,
   "nav_menu": {},
   "number_sections": true,
   "sideBar": true,
   "skip_h1_title": false,
   "title_cell": "Table of Contents",
   "title_sidebar": "Contents",
   "toc_cell": false,
   "toc_position": {},
   "toc_section_display": true,
   "toc_window_display": false
  },
  "varInspector": {
   "cols": {
    "lenName": 16,
    "lenType": 16,
    "lenVar": 40
   },
   "kernels_config": {
    "python": {
     "delete_cmd_postfix": "",
     "delete_cmd_prefix": "del ",
     "library": "var_list.py",
     "varRefreshCmd": "print(var_dic_list())"
    },
    "r": {
     "delete_cmd_postfix": ") ",
     "delete_cmd_prefix": "rm(",
     "library": "var_list.r",
     "varRefreshCmd": "cat(var_dic_list()) "
    }
   },
   "types_to_exclude": [
    "module",
    "function",
    "builtin_function_or_method",
    "instance",
    "_Feature"
   ],
   "window_display": false
  }
 },
 "nbformat": 4,
 "nbformat_minor": 1
}
